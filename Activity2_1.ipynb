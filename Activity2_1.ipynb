{
 "cells": [
  {
   "cell_type": "markdown",
   "metadata": {},
   "source": [
    "# Activity 2: Extract and Repurpose European Soccer Data\n"
   ]
  },
  {
   "cell_type": "code",
   "execution_count": 1,
   "metadata": {
    "collapsed": false
   },
   "outputs": [
    {
     "name": "stderr",
     "output_type": "stream",
     "text": [
      "Warning message:\n",
      "\"package 'dplyr' was built under R version 3.3.3\"\n",
      "Attaching package: 'dplyr'\n",
      "\n",
      "The following objects are masked from 'package:stats':\n",
      "\n",
      "    filter, lag\n",
      "\n",
      "The following objects are masked from 'package:base':\n",
      "\n",
      "    intersect, setdiff, setequal, union\n",
      "\n"
     ]
    },
    {
     "data": {
      "text/html": [
       "<ol class=list-inline>\n",
       "\t<li>'Country'</li>\n",
       "\t<li>'League'</li>\n",
       "\t<li>'Match'</li>\n",
       "\t<li>'Player'</li>\n",
       "\t<li>'Player_Attributes'</li>\n",
       "\t<li>'Team'</li>\n",
       "\t<li>'Team_Attributes'</li>\n",
       "\t<li>'sqlite_sequence'</li>\n",
       "</ol>\n"
      ],
      "text/latex": [
       "\\begin{enumerate*}\n",
       "\\item 'Country'\n",
       "\\item 'League'\n",
       "\\item 'Match'\n",
       "\\item 'Player'\n",
       "\\item 'Player\\_Attributes'\n",
       "\\item 'Team'\n",
       "\\item 'Team\\_Attributes'\n",
       "\\item 'sqlite\\_sequence'\n",
       "\\end{enumerate*}\n"
      ],
      "text/markdown": [
       "1. 'Country'\n",
       "2. 'League'\n",
       "3. 'Match'\n",
       "4. 'Player'\n",
       "5. 'Player_Attributes'\n",
       "6. 'Team'\n",
       "7. 'Team_Attributes'\n",
       "8. 'sqlite_sequence'\n",
       "\n",
       "\n"
      ],
      "text/plain": [
       "[1] \"Country\"           \"League\"            \"Match\"            \n",
       "[4] \"Player\"            \"Player_Attributes\" \"Team\"             \n",
       "[7] \"Team_Attributes\"   \"sqlite_sequence\"  "
      ]
     },
     "metadata": {},
     "output_type": "display_data"
    }
   ],
   "source": [
    "library(dplyr)\n",
    "my_db <- src_sqlite(\"database.sqlite\",create = FALSE)\n",
    "src_tbls(my_db)"
   ]
  },
  {
   "cell_type": "markdown",
   "metadata": {},
   "source": [
    "### Generating a temporary table to store the normalized data of all the mathces and the corresponding league each player played in"
   ]
  },
  {
   "cell_type": "code",
   "execution_count": 2,
   "metadata": {
    "collapsed": false
   },
   "outputs": [],
   "source": [
    "MatchPlayer <- tbl(my_db, sql(\"select * from \n",
    "(Select id as match_id, match_api_id, league_id,  home_team_api_id as team_id, home_player_1 as player_id from Match\n",
    "union all\n",
    "Select id as match_id, match_api_id, league_id,  home_team_api_id as team_id, home_player_2 as player_id from Match\n",
    "union all\n",
    "Select id as match_id, match_api_id, league_id,  home_team_api_id as team_id, home_player_3 as player_id from Match\n",
    "union all\n",
    "Select id as match_id, match_api_id, league_id,  home_team_api_id as team_id, home_player_4 as player_id from Match\n",
    "union all\n",
    "Select id as match_id, match_api_id, league_id,  home_team_api_id as team_id, home_player_5 as player_id from Match\n",
    "union all\n",
    "Select id as match_id, match_api_id, league_id,  home_team_api_id as team_id, home_player_6 as player_id from Match\n",
    "union all\n",
    "Select id as match_id, match_api_id, league_id,  home_team_api_id as team_id, home_player_7 as player_id from Match\n",
    "union all\n",
    "Select id as match_id, match_api_id, league_id,  home_team_api_id as team_id, home_player_8 as player_id from Match\n",
    "union all\n",
    "Select id as match_id, match_api_id, league_id,  home_team_api_id as team_id, home_player_9 as player_id from Match\n",
    "union all\n",
    "Select id as match_id, match_api_id, league_id,  home_team_api_id as team_id, home_player_10 as player_id from Match\n",
    "union all\n",
    "Select id as match_id, match_api_id, league_id,  home_team_api_id as team_id, home_player_11 as player_id from Match\n",
    "union all\n",
    "Select id as match_id, match_api_id, league_id,  away_team_api_id as team_id, away_player_1 as player_id from Match\n",
    "union all\n",
    "Select id as match_id, match_api_id, league_id,  away_team_api_id as team_id, away_player_2 as player_id from Match\n",
    "union all\n",
    "Select id as match_id, match_api_id, league_id,  away_team_api_id as team_id, away_player_3 as player_id from Match\n",
    "union all\n",
    "Select id as match_id, match_api_id, league_id,  away_team_api_id as team_id, away_player_4 as player_id from Match\n",
    "union all\n",
    "Select id as match_id, match_api_id, league_id,  away_team_api_id as team_id, away_player_5 as player_id from Match\n",
    "union all\n",
    "Select id as match_id, match_api_id, league_id,  away_team_api_id as team_id, away_player_6 as player_id from Match\n",
    "union all\n",
    "Select id as match_id, match_api_id, league_id,  away_team_api_id as team_id, away_player_7 as player_id from Match\n",
    "union all\n",
    "Select id as match_id, match_api_id, league_id,  away_team_api_id as team_id, away_player_8 as player_id from Match\n",
    "union all\n",
    "Select id as match_id, match_api_id, league_id,  away_team_api_id as team_id, away_player_9 as player_id from Match\n",
    "union all\n",
    "Select id as match_id, match_api_id, league_id,  away_team_api_id as team_id, away_player_10 as player_id from Match\n",
    "union all\n",
    "Select id as match_id, match_api_id, league_id,  away_team_api_id as team_id, away_player_11 as player_id from Match) where player_id is not null\"))"
   ]
  },
  {
   "cell_type": "markdown",
   "metadata": {},
   "source": [
    "### Converting the player match normalized table to a dataframe"
   ]
  },
  {
   "cell_type": "code",
   "execution_count": 3,
   "metadata": {
    "collapsed": false
   },
   "outputs": [],
   "source": [
    "matchplayerdf <- as.data.frame(MatchPlayer)"
   ]
  },
  {
   "cell_type": "code",
   "execution_count": 4,
   "metadata": {
    "collapsed": false
   },
   "outputs": [
    {
     "data": {
      "text/html": [
       "<table>\n",
       "<thead><tr><th scope=col>match_id</th><th scope=col>match_api_id</th><th scope=col>league_id</th><th scope=col>team_id</th><th scope=col>player_id</th></tr></thead>\n",
       "<tbody>\n",
       "\t<tr><td>145   </td><td>493016</td><td>1     </td><td> 9996 </td><td> 39890</td></tr>\n",
       "\t<tr><td>146   </td><td>493017</td><td>1     </td><td> 8203 </td><td> 38327</td></tr>\n",
       "\t<tr><td>147   </td><td>493018</td><td>1     </td><td> 9986 </td><td> 95597</td></tr>\n",
       "\t<tr><td>149   </td><td>493020</td><td>1     </td><td> 9994 </td><td> 30934</td></tr>\n",
       "\t<tr><td>150   </td><td>493021</td><td>1     </td><td> 8342 </td><td> 37990</td></tr>\n",
       "\t<tr><td>151   </td><td>493022</td><td>1     </td><td> 9993 </td><td> 38391</td></tr>\n",
       "\t<tr><td>152   </td><td>493023</td><td>1     </td><td> 7947 </td><td> 39153</td></tr>\n",
       "\t<tr><td>153   </td><td>493024</td><td>1     </td><td>10000 </td><td> 37900</td></tr>\n",
       "\t<tr><td>154   </td><td>493025</td><td>1     </td><td> 9984 </td><td> 36835</td></tr>\n",
       "\t<tr><td>155   </td><td>493026</td><td>1     </td><td> 9998 </td><td> 38252</td></tr>\n",
       "\t<tr><td>156   </td><td>493027</td><td>1     </td><td> 8635 </td><td> 34480</td></tr>\n",
       "\t<tr><td>157   </td><td>493028</td><td>1     </td><td> 8571 </td><td> 33676</td></tr>\n",
       "\t<tr><td>158   </td><td>493029</td><td>1     </td><td> 9987 </td><td> 37937</td></tr>\n",
       "\t<tr><td>159   </td><td>493030</td><td>1     </td><td>10001 </td><td> 38341</td></tr>\n",
       "\t<tr><td>160   </td><td>493031</td><td>1     </td><td> 9999 </td><td> 38318</td></tr>\n",
       "\t<tr><td>161   </td><td>493032</td><td>1     </td><td> 9991 </td><td>104378</td></tr>\n",
       "\t<tr><td>162   </td><td>493033</td><td>1     </td><td> 9986 </td><td> 95597</td></tr>\n",
       "\t<tr><td>163   </td><td>493034</td><td>1     </td><td> 8203 </td><td> 38327</td></tr>\n",
       "\t<tr><td>165   </td><td>493036</td><td>1     </td><td> 9993 </td><td> 38391</td></tr>\n",
       "\t<tr><td>166   </td><td>493037</td><td>1     </td><td> 9994 </td><td> 30934</td></tr>\n",
       "\t<tr><td>167   </td><td>493038</td><td>1     </td><td> 7947 </td><td> 39153</td></tr>\n",
       "\t<tr><td>168   </td><td>493039</td><td>1     </td><td> 8342 </td><td> 37990</td></tr>\n",
       "\t<tr><td>169   </td><td>493040</td><td>1     </td><td>10000 </td><td> 37900</td></tr>\n",
       "\t<tr><td>170   </td><td>493041</td><td>1     </td><td> 9996 </td><td>148308</td></tr>\n",
       "\t<tr><td>171   </td><td>493042</td><td>1     </td><td> 4049 </td><td> 32990</td></tr>\n",
       "\t<tr><td>172   </td><td>493043</td><td>1     </td><td> 8571 </td><td> 33676</td></tr>\n",
       "\t<tr><td>173   </td><td>493044</td><td>1     </td><td> 9986 </td><td> 95597</td></tr>\n",
       "\t<tr><td>174   </td><td>493045</td><td>1     </td><td> 9991 </td><td>104378</td></tr>\n",
       "\t<tr><td>175   </td><td>493046</td><td>1     </td><td> 9998 </td><td> 38252</td></tr>\n",
       "\t<tr><td>176   </td><td>493047</td><td>1     </td><td>10001 </td><td> 38341</td></tr>\n",
       "\t<tr><td>...</td><td>...</td><td>...</td><td>...</td><td>...</td></tr>\n",
       "\t<tr><td>25950  </td><td>1992066</td><td>24558  </td><td> 7896  </td><td>178142 </td></tr>\n",
       "\t<tr><td>25951  </td><td>1992067</td><td>24558  </td><td> 9931  </td><td>527103 </td></tr>\n",
       "\t<tr><td>25952  </td><td>1992068</td><td>24558  </td><td>10243  </td><td> 67306 </td></tr>\n",
       "\t<tr><td>25953  </td><td>1992069</td><td>24558  </td><td>10179  </td><td>275122 </td></tr>\n",
       "\t<tr><td>25954  </td><td>1992070</td><td>24558  </td><td>10191  </td><td>232110 </td></tr>\n",
       "\t<tr><td>25955  </td><td>1992071</td><td>24558  </td><td>10191  </td><td>289732 </td></tr>\n",
       "\t<tr><td>25956  </td><td>1992072</td><td>24558  </td><td> 7896  </td><td>178142 </td></tr>\n",
       "\t<tr><td>25957  </td><td>1992073</td><td>24558  </td><td>10190  </td><td> 35831 </td></tr>\n",
       "\t<tr><td>25958  </td><td>1992074</td><td>24558  </td><td>10243  </td><td> 67306 </td></tr>\n",
       "\t<tr><td>25959  </td><td>1992075</td><td>24558  </td><td> 9956  </td><td>289472 </td></tr>\n",
       "\t<tr><td>25960  </td><td>1992076</td><td>24558  </td><td> 9931  </td><td>527104 </td></tr>\n",
       "\t<tr><td>25961  </td><td>1992077</td><td>24558  </td><td>10192  </td><td> 37554 </td></tr>\n",
       "\t<tr><td>25962  </td><td>1992078</td><td>24558  </td><td> 9956  </td><td>289472 </td></tr>\n",
       "\t<tr><td>25963  </td><td>1992079</td><td>24558  </td><td> 9824  </td><td>209371 </td></tr>\n",
       "\t<tr><td>25964  </td><td>1992080</td><td>24558  </td><td>10199  </td><td> 34082 </td></tr>\n",
       "\t<tr><td>25965  </td><td>1992081</td><td>24558  </td><td>10199  </td><td> 34082 </td></tr>\n",
       "\t<tr><td>25966  </td><td>1992082</td><td>24558  </td><td>10190  </td><td>119839 </td></tr>\n",
       "\t<tr><td>25967  </td><td>1992083</td><td>24558  </td><td>10179  </td><td>275122 </td></tr>\n",
       "\t<tr><td>25968  </td><td>1992084</td><td>24558  </td><td>10243  </td><td> 67306 </td></tr>\n",
       "\t<tr><td>25969  </td><td>1992085</td><td>24558  </td><td>10192  </td><td>422412 </td></tr>\n",
       "\t<tr><td>25970  </td><td>1992086</td><td>24558  </td><td>10190  </td><td> 72628 </td></tr>\n",
       "\t<tr><td>25971  </td><td>1992087</td><td>24558  </td><td> 9824  </td><td>113227 </td></tr>\n",
       "\t<tr><td>25972  </td><td>1992088</td><td>24558  </td><td> 9956  </td><td>289472 </td></tr>\n",
       "\t<tr><td>25973  </td><td>1992089</td><td>24558  </td><td>10191  </td><td>289732 </td></tr>\n",
       "\t<tr><td>25974  </td><td>1992090</td><td>24558  </td><td> 7896  </td><td>178142 </td></tr>\n",
       "\t<tr><td>25975  </td><td>1992091</td><td>24558  </td><td>10191  </td><td>289732 </td></tr>\n",
       "\t<tr><td>25976  </td><td>1992092</td><td>24558  </td><td>10199  </td><td> 95257 </td></tr>\n",
       "\t<tr><td>25977  </td><td>1992093</td><td>24558  </td><td>10179  </td><td>275122 </td></tr>\n",
       "\t<tr><td>25978  </td><td>1992094</td><td>24558  </td><td>10243  </td><td>194532 </td></tr>\n",
       "\t<tr><td>25979  </td><td>1992095</td><td>24558  </td><td> 9931  </td><td>527103 </td></tr>\n",
       "</tbody>\n",
       "</table>\n"
      ],
      "text/latex": [
       "\\begin{tabular}{r|lllll}\n",
       " match\\_id & match\\_api\\_id & league\\_id & team\\_id & player\\_id\\\\\n",
       "\\hline\n",
       "\t 145    & 493016 & 1      &  9996  &  39890\\\\\n",
       "\t 146    & 493017 & 1      &  8203  &  38327\\\\\n",
       "\t 147    & 493018 & 1      &  9986  &  95597\\\\\n",
       "\t 149    & 493020 & 1      &  9994  &  30934\\\\\n",
       "\t 150    & 493021 & 1      &  8342  &  37990\\\\\n",
       "\t 151    & 493022 & 1      &  9993  &  38391\\\\\n",
       "\t 152    & 493023 & 1      &  7947  &  39153\\\\\n",
       "\t 153    & 493024 & 1      & 10000  &  37900\\\\\n",
       "\t 154    & 493025 & 1      &  9984  &  36835\\\\\n",
       "\t 155    & 493026 & 1      &  9998  &  38252\\\\\n",
       "\t 156    & 493027 & 1      &  8635  &  34480\\\\\n",
       "\t 157    & 493028 & 1      &  8571  &  33676\\\\\n",
       "\t 158    & 493029 & 1      &  9987  &  37937\\\\\n",
       "\t 159    & 493030 & 1      & 10001  &  38341\\\\\n",
       "\t 160    & 493031 & 1      &  9999  &  38318\\\\\n",
       "\t 161    & 493032 & 1      &  9991  & 104378\\\\\n",
       "\t 162    & 493033 & 1      &  9986  &  95597\\\\\n",
       "\t 163    & 493034 & 1      &  8203  &  38327\\\\\n",
       "\t 165    & 493036 & 1      &  9993  &  38391\\\\\n",
       "\t 166    & 493037 & 1      &  9994  &  30934\\\\\n",
       "\t 167    & 493038 & 1      &  7947  &  39153\\\\\n",
       "\t 168    & 493039 & 1      &  8342  &  37990\\\\\n",
       "\t 169    & 493040 & 1      & 10000  &  37900\\\\\n",
       "\t 170    & 493041 & 1      &  9996  & 148308\\\\\n",
       "\t 171    & 493042 & 1      &  4049  &  32990\\\\\n",
       "\t 172    & 493043 & 1      &  8571  &  33676\\\\\n",
       "\t 173    & 493044 & 1      &  9986  &  95597\\\\\n",
       "\t 174    & 493045 & 1      &  9991  & 104378\\\\\n",
       "\t 175    & 493046 & 1      &  9998  &  38252\\\\\n",
       "\t 176    & 493047 & 1      & 10001  &  38341\\\\\n",
       "\t ... & ... & ... & ... & ...\\\\\n",
       "\t 25950   & 1992066 & 24558   &  7896   & 178142 \\\\\n",
       "\t 25951   & 1992067 & 24558   &  9931   & 527103 \\\\\n",
       "\t 25952   & 1992068 & 24558   & 10243   &  67306 \\\\\n",
       "\t 25953   & 1992069 & 24558   & 10179   & 275122 \\\\\n",
       "\t 25954   & 1992070 & 24558   & 10191   & 232110 \\\\\n",
       "\t 25955   & 1992071 & 24558   & 10191   & 289732 \\\\\n",
       "\t 25956   & 1992072 & 24558   &  7896   & 178142 \\\\\n",
       "\t 25957   & 1992073 & 24558   & 10190   &  35831 \\\\\n",
       "\t 25958   & 1992074 & 24558   & 10243   &  67306 \\\\\n",
       "\t 25959   & 1992075 & 24558   &  9956   & 289472 \\\\\n",
       "\t 25960   & 1992076 & 24558   &  9931   & 527104 \\\\\n",
       "\t 25961   & 1992077 & 24558   & 10192   &  37554 \\\\\n",
       "\t 25962   & 1992078 & 24558   &  9956   & 289472 \\\\\n",
       "\t 25963   & 1992079 & 24558   &  9824   & 209371 \\\\\n",
       "\t 25964   & 1992080 & 24558   & 10199   &  34082 \\\\\n",
       "\t 25965   & 1992081 & 24558   & 10199   &  34082 \\\\\n",
       "\t 25966   & 1992082 & 24558   & 10190   & 119839 \\\\\n",
       "\t 25967   & 1992083 & 24558   & 10179   & 275122 \\\\\n",
       "\t 25968   & 1992084 & 24558   & 10243   &  67306 \\\\\n",
       "\t 25969   & 1992085 & 24558   & 10192   & 422412 \\\\\n",
       "\t 25970   & 1992086 & 24558   & 10190   &  72628 \\\\\n",
       "\t 25971   & 1992087 & 24558   &  9824   & 113227 \\\\\n",
       "\t 25972   & 1992088 & 24558   &  9956   & 289472 \\\\\n",
       "\t 25973   & 1992089 & 24558   & 10191   & 289732 \\\\\n",
       "\t 25974   & 1992090 & 24558   &  7896   & 178142 \\\\\n",
       "\t 25975   & 1992091 & 24558   & 10191   & 289732 \\\\\n",
       "\t 25976   & 1992092 & 24558   & 10199   &  95257 \\\\\n",
       "\t 25977   & 1992093 & 24558   & 10179   & 275122 \\\\\n",
       "\t 25978   & 1992094 & 24558   & 10243   & 194532 \\\\\n",
       "\t 25979   & 1992095 & 24558   &  9931   & 527103 \\\\\n",
       "\\end{tabular}\n"
      ],
      "text/markdown": [
       "\n",
       "match_id | match_api_id | league_id | team_id | player_id | \n",
       "|---|---|---|---|---|---|---|---|---|---|---|---|---|---|---|---|---|---|---|---|---|---|---|---|---|---|---|---|---|---|---|---|---|---|---|---|---|---|---|---|---|---|---|---|---|---|---|---|---|---|---|---|---|---|---|---|---|---|---|---|---|\n",
       "| 145    | 493016 | 1      |  9996  |  39890 | \n",
       "| 146    | 493017 | 1      |  8203  |  38327 | \n",
       "| 147    | 493018 | 1      |  9986  |  95597 | \n",
       "| 149    | 493020 | 1      |  9994  |  30934 | \n",
       "| 150    | 493021 | 1      |  8342  |  37990 | \n",
       "| 151    | 493022 | 1      |  9993  |  38391 | \n",
       "| 152    | 493023 | 1      |  7947  |  39153 | \n",
       "| 153    | 493024 | 1      | 10000  |  37900 | \n",
       "| 154    | 493025 | 1      |  9984  |  36835 | \n",
       "| 155    | 493026 | 1      |  9998  |  38252 | \n",
       "| 156    | 493027 | 1      |  8635  |  34480 | \n",
       "| 157    | 493028 | 1      |  8571  |  33676 | \n",
       "| 158    | 493029 | 1      |  9987  |  37937 | \n",
       "| 159    | 493030 | 1      | 10001  |  38341 | \n",
       "| 160    | 493031 | 1      |  9999  |  38318 | \n",
       "| 161    | 493032 | 1      |  9991  | 104378 | \n",
       "| 162    | 493033 | 1      |  9986  |  95597 | \n",
       "| 163    | 493034 | 1      |  8203  |  38327 | \n",
       "| 165    | 493036 | 1      |  9993  |  38391 | \n",
       "| 166    | 493037 | 1      |  9994  |  30934 | \n",
       "| 167    | 493038 | 1      |  7947  |  39153 | \n",
       "| 168    | 493039 | 1      |  8342  |  37990 | \n",
       "| 169    | 493040 | 1      | 10000  |  37900 | \n",
       "| 170    | 493041 | 1      |  9996  | 148308 | \n",
       "| 171    | 493042 | 1      |  4049  |  32990 | \n",
       "| 172    | 493043 | 1      |  8571  |  33676 | \n",
       "| 173    | 493044 | 1      |  9986  |  95597 | \n",
       "| 174    | 493045 | 1      |  9991  | 104378 | \n",
       "| 175    | 493046 | 1      |  9998  |  38252 | \n",
       "| 176    | 493047 | 1      | 10001  |  38341 | \n",
       "| ... | ... | ... | ... | ... | \n",
       "| 25950   | 1992066 | 24558   |  7896   | 178142  | \n",
       "| 25951   | 1992067 | 24558   |  9931   | 527103  | \n",
       "| 25952   | 1992068 | 24558   | 10243   |  67306  | \n",
       "| 25953   | 1992069 | 24558   | 10179   | 275122  | \n",
       "| 25954   | 1992070 | 24558   | 10191   | 232110  | \n",
       "| 25955   | 1992071 | 24558   | 10191   | 289732  | \n",
       "| 25956   | 1992072 | 24558   |  7896   | 178142  | \n",
       "| 25957   | 1992073 | 24558   | 10190   |  35831  | \n",
       "| 25958   | 1992074 | 24558   | 10243   |  67306  | \n",
       "| 25959   | 1992075 | 24558   |  9956   | 289472  | \n",
       "| 25960   | 1992076 | 24558   |  9931   | 527104  | \n",
       "| 25961   | 1992077 | 24558   | 10192   |  37554  | \n",
       "| 25962   | 1992078 | 24558   |  9956   | 289472  | \n",
       "| 25963   | 1992079 | 24558   |  9824   | 209371  | \n",
       "| 25964   | 1992080 | 24558   | 10199   |  34082  | \n",
       "| 25965   | 1992081 | 24558   | 10199   |  34082  | \n",
       "| 25966   | 1992082 | 24558   | 10190   | 119839  | \n",
       "| 25967   | 1992083 | 24558   | 10179   | 275122  | \n",
       "| 25968   | 1992084 | 24558   | 10243   |  67306  | \n",
       "| 25969   | 1992085 | 24558   | 10192   | 422412  | \n",
       "| 25970   | 1992086 | 24558   | 10190   |  72628  | \n",
       "| 25971   | 1992087 | 24558   |  9824   | 113227  | \n",
       "| 25972   | 1992088 | 24558   |  9956   | 289472  | \n",
       "| 25973   | 1992089 | 24558   | 10191   | 289732  | \n",
       "| 25974   | 1992090 | 24558   |  7896   | 178142  | \n",
       "| 25975   | 1992091 | 24558   | 10191   | 289732  | \n",
       "| 25976   | 1992092 | 24558   | 10199   |  95257  | \n",
       "| 25977   | 1992093 | 24558   | 10179   | 275122  | \n",
       "| 25978   | 1992094 | 24558   | 10243   | 194532  | \n",
       "| 25979   | 1992095 | 24558   |  9931   | 527103  | \n",
       "\n",
       "\n"
      ],
      "text/plain": [
       "       match_id match_api_id league_id team_id player_id\n",
       "1      145      493016       1          9996    39890   \n",
       "2      146      493017       1          8203    38327   \n",
       "3      147      493018       1          9986    95597   \n",
       "4      149      493020       1          9994    30934   \n",
       "5      150      493021       1          8342    37990   \n",
       "6      151      493022       1          9993    38391   \n",
       "7      152      493023       1          7947    39153   \n",
       "8      153      493024       1         10000    37900   \n",
       "9      154      493025       1          9984    36835   \n",
       "10     155      493026       1          9998    38252   \n",
       "11     156      493027       1          8635    34480   \n",
       "12     157      493028       1          8571    33676   \n",
       "13     158      493029       1          9987    37937   \n",
       "14     159      493030       1         10001    38341   \n",
       "15     160      493031       1          9999    38318   \n",
       "16     161      493032       1          9991   104378   \n",
       "17     162      493033       1          9986    95597   \n",
       "18     163      493034       1          8203    38327   \n",
       "19     165      493036       1          9993    38391   \n",
       "20     166      493037       1          9994    30934   \n",
       "21     167      493038       1          7947    39153   \n",
       "22     168      493039       1          8342    37990   \n",
       "23     169      493040       1         10000    37900   \n",
       "24     170      493041       1          9996   148308   \n",
       "25     171      493042       1          4049    32990   \n",
       "26     172      493043       1          8571    33676   \n",
       "27     173      493044       1          9986    95597   \n",
       "28     174      493045       1          9991   104378   \n",
       "29     175      493046       1          9998    38252   \n",
       "30     176      493047       1         10001    38341   \n",
       "...    ...      ...          ...       ...     ...      \n",
       "542252 25950    1992066      24558      7896   178142   \n",
       "542253 25951    1992067      24558      9931   527103   \n",
       "542254 25952    1992068      24558     10243    67306   \n",
       "542255 25953    1992069      24558     10179   275122   \n",
       "542256 25954    1992070      24558     10191   232110   \n",
       "542257 25955    1992071      24558     10191   289732   \n",
       "542258 25956    1992072      24558      7896   178142   \n",
       "542259 25957    1992073      24558     10190    35831   \n",
       "542260 25958    1992074      24558     10243    67306   \n",
       "542261 25959    1992075      24558      9956   289472   \n",
       "542262 25960    1992076      24558      9931   527104   \n",
       "542263 25961    1992077      24558     10192    37554   \n",
       "542264 25962    1992078      24558      9956   289472   \n",
       "542265 25963    1992079      24558      9824   209371   \n",
       "542266 25964    1992080      24558     10199    34082   \n",
       "542267 25965    1992081      24558     10199    34082   \n",
       "542268 25966    1992082      24558     10190   119839   \n",
       "542269 25967    1992083      24558     10179   275122   \n",
       "542270 25968    1992084      24558     10243    67306   \n",
       "542271 25969    1992085      24558     10192   422412   \n",
       "542272 25970    1992086      24558     10190    72628   \n",
       "542273 25971    1992087      24558      9824   113227   \n",
       "542274 25972    1992088      24558      9956   289472   \n",
       "542275 25973    1992089      24558     10191   289732   \n",
       "542276 25974    1992090      24558      7896   178142   \n",
       "542277 25975    1992091      24558     10191   289732   \n",
       "542278 25976    1992092      24558     10199    95257   \n",
       "542279 25977    1992093      24558     10179   275122   \n",
       "542280 25978    1992094      24558     10243   194532   \n",
       "542281 25979    1992095      24558      9931   527103   "
      ]
     },
     "metadata": {},
     "output_type": "display_data"
    }
   ],
   "source": [
    "matchplayerdf"
   ]
  },
  {
   "cell_type": "code",
   "execution_count": 5,
   "metadata": {
    "collapsed": false
   },
   "outputs": [
    {
     "data": {
      "text/html": [
       "TRUE"
      ],
      "text/latex": [
       "TRUE"
      ],
      "text/markdown": [
       "TRUE"
      ],
      "text/plain": [
       "[1] TRUE"
      ]
     },
     "metadata": {},
     "output_type": "display_data"
    },
    {
     "data": {
      "text/html": [
       "<ol class=list-inline>\n",
       "\t<li>'Country'</li>\n",
       "\t<li>'League'</li>\n",
       "\t<li>'Match'</li>\n",
       "\t<li>'MatchPlayer'</li>\n",
       "\t<li>'Player'</li>\n",
       "\t<li>'Player_Attributes'</li>\n",
       "\t<li>'Team'</li>\n",
       "\t<li>'Team_Attributes'</li>\n",
       "\t<li>'sqlite_sequence'</li>\n",
       "</ol>\n"
      ],
      "text/latex": [
       "\\begin{enumerate*}\n",
       "\\item 'Country'\n",
       "\\item 'League'\n",
       "\\item 'Match'\n",
       "\\item 'MatchPlayer'\n",
       "\\item 'Player'\n",
       "\\item 'Player\\_Attributes'\n",
       "\\item 'Team'\n",
       "\\item 'Team\\_Attributes'\n",
       "\\item 'sqlite\\_sequence'\n",
       "\\end{enumerate*}\n"
      ],
      "text/markdown": [
       "1. 'Country'\n",
       "2. 'League'\n",
       "3. 'Match'\n",
       "4. 'MatchPlayer'\n",
       "5. 'Player'\n",
       "6. 'Player_Attributes'\n",
       "7. 'Team'\n",
       "8. 'Team_Attributes'\n",
       "9. 'sqlite_sequence'\n",
       "\n",
       "\n"
      ],
      "text/plain": [
       "[1] \"Country\"           \"League\"            \"Match\"            \n",
       "[4] \"MatchPlayer\"       \"Player\"            \"Player_Attributes\"\n",
       "[7] \"Team\"              \"Team_Attributes\"   \"sqlite_sequence\"  "
      ]
     },
     "metadata": {},
     "output_type": "display_data"
    }
   ],
   "source": [
    "library(RSQLite)\n",
    "db <- dbConnect(SQLite(),dbname=\"database.sqlite\")\n",
    "dbWriteTable(db, \"MatchPlayer\", matchplayerdf)\n",
    "dbListTables(db)"
   ]
  },
  {
   "cell_type": "markdown",
   "metadata": {},
   "source": [
    "### Top 10 players with the highest overall rating"
   ]
  },
  {
   "cell_type": "code",
   "execution_count": 6,
   "metadata": {
    "collapsed": false
   },
   "outputs": [
    {
     "data": {
      "text/plain": [
       "Source:   query [?? x 3]\n",
       "Database: sqlite 3.11.1 [database.sqlite]\n",
       "\n",
       "   player_api_id       player_name overall_rating\n",
       "           <int>             <chr>          <int>\n",
       "1          30981      Lionel Messi             94\n",
       "2          30717  Gianluigi Buffon             93\n",
       "3          30829      Wayne Rooney             93\n",
       "4          30893 Cristiano Ronaldo             93\n",
       "5          39854    Xavi Hernandez             92\n",
       "6          39989    Gregory Coupet             92\n",
       "7          30626     Thierry Henry             91\n",
       "8          30627        John Terry             91\n",
       "9          30657     Iker Casillas             91\n",
       "10         30723  Alessandro Nesta             91\n",
       "# ... with more rows"
      ]
     },
     "metadata": {},
     "output_type": "display_data"
    }
   ],
   "source": [
    "tbl(my_db, sql(\"select p.player_api_id, p.player_name, rtg.overall_rating\n",
    "from Player p\n",
    "join (select player_api_id, max(overall_rating) as overall_rating from 'Player_Attributes' group by player_api_id) rtg on p.player_api_id = rtg.player_api_id order by rtg.overall_rating desc\"))"
   ]
  },
  {
   "cell_type": "markdown",
   "metadata": {},
   "source": [
    "### Top 10 goalkeepers by sum of gk attributes"
   ]
  },
  {
   "cell_type": "code",
   "execution_count": 7,
   "metadata": {
    "collapsed": false
   },
   "outputs": [
    {
     "data": {
      "text/plain": [
       "Source:   query [?? x 3]\n",
       "Database: sqlite 3.11.1 [database.sqlite]\n",
       "\n",
       "   player_api_id       player_name gk_rating\n",
       "           <int>             <chr>     <int>\n",
       "1          30717  Gianluigi Buffon       449\n",
       "2          39989    Gregory Coupet       447\n",
       "3          30859         Petr Cech       445\n",
       "4          30657     Iker Casillas       442\n",
       "5          27299      Manuel Neuer       440\n",
       "6          30989       Julio Cesar       438\n",
       "7          24503    Sebastian Frey       437\n",
       "8          30726 Edwin van der Sar       436\n",
       "9         182917      David De Gea       429\n",
       "10         30660        Pepe Reina       428\n",
       "# ... with more rows"
      ]
     },
     "metadata": {},
     "output_type": "display_data"
    }
   ],
   "source": [
    "tbl(my_db, sql(\"select * from (select p.player_api_id, p.player_name, gk.gk_rating\n",
    "from Player p\n",
    "join (select player_api_id, max(gk_diving+gk_handling+gk_kicking+gk_positioning+gk_reflexes) as gk_rating from 'Player_Attributes' group by player_api_id) gk on p.player_api_id = gk.player_api_id) order by gk_rating desc\"))"
   ]
  },
  {
   "cell_type": "markdown",
   "metadata": {},
   "source": [
    "### Top 10 players by number of leagues they played in"
   ]
  },
  {
   "cell_type": "code",
   "execution_count": 8,
   "metadata": {
    "collapsed": false
   },
   "outputs": [
    {
     "data": {
      "text/plain": [
       "Source:   query [?? x 3]\n",
       "Database: sqlite 3.11.1 [database.sqlite]\n",
       "\n",
       "   player_api_id          player_name appearances\n",
       "           <int>                <chr>       <int>\n",
       "1          31293       Steve Mandanda         300\n",
       "2          41097     Stephane Ruffier         294\n",
       "3          33764 Gorka Iraizoz Moreno         286\n",
       "4          42422     Samir Handanovic         286\n",
       "5          26295          Hugo Lloris         282\n",
       "6          31465           Tim Howard         282\n",
       "7          31432             Joe Hart         275\n",
       "8          26168      Cedric Carrasso         268\n",
       "9          26399        Daniel Congre         262\n",
       "10         94550       Moussa Sissoko         260\n",
       "# ... with more rows"
      ]
     },
     "metadata": {},
     "output_type": "display_data"
    }
   ],
   "source": [
    "tbl(my_db, sql(\"select * from (select p.player_api_id, p.player_name, app.appearances\n",
    "from Player p\n",
    "join (select player_id, count(*) as appearances from 'MatchPlayer' where player_id is not null group by player_id) app on p.player_api_id = app.player_id) app order by app.appearances desc\"))"
   ]
  },
  {
   "cell_type": "markdown",
   "metadata": {},
   "source": [
    "### Top 10 players by number of leagues they played in"
   ]
  },
  {
   "cell_type": "code",
   "execution_count": 9,
   "metadata": {
    "collapsed": false
   },
   "outputs": [
    {
     "data": {
      "text/plain": [
       "Source:   query [?? x 3]\n",
       "Database: sqlite 3.11.1 [database.sqlite]\n",
       "\n",
       "   player_api_id           player_name league_count\n",
       "           <int>                 <chr>        <int>\n",
       "1          42119      Gelson Fernandes            6\n",
       "2         116750 Ricky van Wolfswinkel            5\n",
       "3         178538        Filip Djuricic            5\n",
       "4          22543        Radamel Falcao            4\n",
       "5          24123    Jonathan De Guzman            4\n",
       "6          25816            Almen Abdi            4\n",
       "7          26434       Ibrahim Afellay            4\n",
       "8          26489       Edson Braafheid            4\n",
       "9          26675           Eljero Elia            4\n",
       "10         30477       Danijel Pranjic            4\n",
       "# ... with more rows"
      ]
     },
     "metadata": {},
     "output_type": "display_data"
    }
   ],
   "source": [
    "tbl(my_db, sql(\"select * from (select p.player_api_id, p.player_name, lc.league_count\n",
    "from Player p\n",
    "join (select player_id, count(*) as league_count from (select distinct player_id, league_id from MatchPlayer where player_id is not null) group by player_id) lc on  p.player_api_id = lc.player_id) app order by league_count desc\"))"
   ]
  },
  {
   "cell_type": "markdown",
   "metadata": {},
   "source": [
    "### Top 10 teams by sum of build up play attributes"
   ]
  },
  {
   "cell_type": "code",
   "execution_count": 10,
   "metadata": {
    "collapsed": false
   },
   "outputs": [
    {
     "data": {
      "text/plain": [
       "Source:   query [?? x 4]\n",
       "Database: sqlite 3.11.1 [database.sqlite]\n",
       "\n",
       "   Team_api_id team_short_name             team_long_name buildupScore\n",
       "         <int>           <chr>                      <chr>        <int>\n",
       "1         9804             TOR                     Torino          209\n",
       "2         8600             UDI                    Udinese          205\n",
       "3         8194             FDU         Fortuna Düsseldorf          198\n",
       "4         8033             POD Podbeskidzie Bielsko-Biala          193\n",
       "5         8245             KKI              Korona Kielce          192\n",
       "6       208931             CAP                      Carpi          190\n",
       "7         8244             LOD                Widzew Lódz          190\n",
       "8         8024             WID                Widzew Lódz          190\n",
       "9         9830             NAN                  FC Nantes          189\n",
       "10        8543             LAZ                      Lazio          188\n",
       "# ... with more rows"
      ]
     },
     "metadata": {},
     "output_type": "display_data"
    }
   ],
   "source": [
    "tbl(my_db, sql(\"select * from (select t.Team_api_id, t.team_short_name, t.team_long_name, bs.buildupScore\n",
    "from Team t\n",
    "left join (select team_api_id, max(buildup_score) as buildupScore from (select team_api_id, (buildUpPlaySpeed+buildUpPlayDribbling+buildUpPlayPassing) as buildup_score from Team_attributes) group by team_api_id) bs on bs.team_api_id = t.team_api_id)order by buildupScore desc\"))"
   ]
  },
  {
   "cell_type": "markdown",
   "metadata": {},
   "source": [
    "### Top 10 teams by sum of chance creation attributes"
   ]
  },
  {
   "cell_type": "code",
   "execution_count": 11,
   "metadata": {
    "collapsed": false
   },
   "outputs": [
    {
     "data": {
      "text/plain": [
       "Source:   query [?? x 4]\n",
       "Database: sqlite 3.11.1 [database.sqlite]\n",
       "\n",
       "   Team_api_id team_short_name          team_long_name chanceCreationScore\n",
       "         <int>           <chr>                   <chr>               <int>\n",
       "1         8543             LAZ                   Lazio                 220\n",
       "2         8697             WBR        SV Werder Bremen                 216\n",
       "3         9875             NAP                  Napoli                 215\n",
       "4         8456             MCI         Manchester City                 210\n",
       "5         8586             TOT       Tottenham Hotspur                 210\n",
       "6         8658             BIR         Birmingham City                 210\n",
       "7         8602             WOL Wolverhampton Wanderers                 210\n",
       "8         8191             BUR                 Burnley                 210\n",
       "9        10003             SWA            Swansea City                 210\n",
       "10       10172             QPR     Queens Park Rangers                 210\n",
       "# ... with more rows"
      ]
     },
     "metadata": {},
     "output_type": "display_data"
    }
   ],
   "source": [
    "tbl(my_db, sql(\"select * from (select t.Team_api_id, t.team_short_name, t.team_long_name, cs.chanceCreationScore\n",
    "from Team t\n",
    "left join (select team_api_id, max(chanceCreationScore) as chanceCreationScore from (select team_api_id, (chanceCreationPassing+chanceCreationCrossing+chanceCreationShooting) as chanceCreationScore from Team_attributes) group by team_api_id) cs on cs.team_api_id = t.team_api_id)order by chanceCreationScore desc\"))"
   ]
  },
  {
   "cell_type": "markdown",
   "metadata": {},
   "source": [
    "### Top 10 teams by sum of defense attributes"
   ]
  },
  {
   "cell_type": "code",
   "execution_count": 12,
   "metadata": {
    "collapsed": false
   },
   "outputs": [
    {
     "data": {
      "text/plain": [
       "Source:   query [?? x 4]\n",
       "Database: sqlite 3.11.1 [database.sqlite]\n",
       "\n",
       "   Team_api_id team_short_name          team_long_name defenseScore\n",
       "         <int>           <chr>                   <chr>        <int>\n",
       "1         9993             BAC            Beerschot AC          210\n",
       "2        10001             WES            KVC Westerlo          210\n",
       "3         9986             CHA      Sporting Charleroi          210\n",
       "4         8659             WBA    West Bromwich Albion          210\n",
       "5         8667             HUL               Hull City          210\n",
       "6         8658             BIR         Birmingham City          210\n",
       "7         8602             WOL Wolverhampton Wanderers          210\n",
       "8         8483             BLA               Blackpool          210\n",
       "9        10003             SWA            Swansea City          210\n",
       "10       10172             QPR     Queens Park Rangers          210\n",
       "# ... with more rows"
      ]
     },
     "metadata": {},
     "output_type": "display_data"
    }
   ],
   "source": [
    "tbl(my_db, sql(\"select * from (select t.Team_api_id, t.team_short_name, t.team_long_name, ds.defenseScore\n",
    "from Team t\n",
    "left join (select team_api_id, max(defenseScore) as defenseScore from (select team_api_id, (defencePressure+defenceAggression+defenceTeamWidth) as defenseScore from Team_attributes) group by team_api_id) ds on ds.team_api_id = t.team_api_id)order by defenseScore desc\"))"
   ]
  },
  {
   "cell_type": "markdown",
   "metadata": {},
   "source": [
    "### Top 10 teams by number of goals scored "
   ]
  },
  {
   "cell_type": "code",
   "execution_count": 13,
   "metadata": {
    "collapsed": false
   },
   "outputs": [
    {
     "data": {
      "text/plain": [
       "Source:   query [?? x 4]\n",
       "Database: sqlite 3.11.1 [database.sqlite]\n",
       "\n",
       "   team_api_id team_short_name    team_long_name goals_scored\n",
       "         <int>           <chr>             <chr>        <int>\n",
       "1         8634             BAR      FC Barcelona          849\n",
       "2         8633             REA    Real Madrid CF          843\n",
       "3         9925             CEL            Celtic          695\n",
       "4         9823             BMU  FC Bayern Munich          653\n",
       "5         8640             PSV               PSV          652\n",
       "6         8593             AJA              Ajax          647\n",
       "7         9931             BAS          FC Basel          619\n",
       "8         8456             MCI   Manchester City          606\n",
       "9         8455             CHE           Chelsea          583\n",
       "10       10260             MUN Manchester United          582\n",
       "# ... with more rows"
      ]
     },
     "metadata": {},
     "output_type": "display_data"
    }
   ],
   "source": [
    "tbl(my_db, sql(\"select * from (select team_api_id, team_short_name, team_long_name,  sum(goals_scored) as goals_scored from\n",
    "(select t.team_api_id, t.team_long_name, t.team_short_name, h.match_api_id, h.home_team_goal as goals_scored from Team t, Match h where h.home_team_api_id = t.team_api_id\n",
    "union all\n",
    "select t.team_api_id, t.team_long_name, t.team_short_name, a.match_api_id, a.away_team_goal as goals_scored from Team t, Match a where a.away_team_api_id = t.team_api_id) group by team_api_id, team_long_name, team_short_name) order by goals_scored desc\"))"
   ]
  },
  {
   "cell_type": "markdown",
   "metadata": {},
   "source": [
    "### Cumulating all the player details which includes player overall rating, gk rating, number of total appearances, number of leagues they played in and then loading to a data frame"
   ]
  },
  {
   "cell_type": "code",
   "execution_count": 14,
   "metadata": {
    "collapsed": false
   },
   "outputs": [],
   "source": [
    "players <- tbl(my_db, sql(\"select * from (select p.player_api_id, p.player_name, rtg.overall_rating, gk.gk_rating, app.appearances, lc.league_count\n",
    "from Player p\n",
    "join (select player_api_id, max(overall_rating) as overall_rating from 'Player_Attributes' group by player_api_id) rtg on p.player_api_id = rtg.player_api_id\n",
    "join (select player_api_id, max(gk_diving+gk_handling+gk_kicking+gk_positioning+gk_reflexes) as gk_rating from 'Player_Attributes' group by player_api_id) gk on p.player_api_id = gk.player_api_id \n",
    "join (select player_id, count(*) as appearances from 'MatchPlayer' where player_id is not null group by player_id) app on p.player_api_id = app.player_id \n",
    "join (select player_id, count(*) as league_count from (select distinct player_id, league_id from MatchPlayer where player_id is not null) group by player_id) lc on  p.player_api_id = lc.player_id)\"))"
   ]
  },
  {
   "cell_type": "markdown",
   "metadata": {},
   "source": [
    "### Cumulating all the data related to Team which includes  buildup Score, chancecreation score , defense score and the the number of goals scored by each and then loading to a data frame"
   ]
  },
  {
   "cell_type": "code",
   "execution_count": 15,
   "metadata": {
    "collapsed": false
   },
   "outputs": [],
   "source": [
    "teams <- tbl(my_db, sql(\"select * from(select t.*, bs.buildupScore, cs.chanceCreationScore, ds.defenseScore from \n",
    "(select team_api_id, team_long_name, team_short_name, sum(goals_scored) as goals_scored from\n",
    "(select t.team_api_id, t.team_long_name, t.team_short_name, h.match_api_id, h.home_team_goal as goals_scored from Team t, Match h where h.home_team_api_id = t.team_api_id\n",
    "union all\n",
    "select t.team_api_id, t.team_long_name, t.team_short_name, a.match_api_id, a.away_team_goal as goals_scored from Team t, Match a where a.away_team_api_id = t.team_api_id) group by team_api_id, team_long_name, team_short_name) t\n",
    "left join (select team_api_id, max(buildup_score) as buildupScore from (select team_api_id, (buildUpPlaySpeed+buildUpPlayDribbling+buildUpPlayPassing) as buildup_score from Team_attributes) group by team_api_id) bs on bs.team_api_id = t.team_api_id\n",
    "left join (select team_api_id, max(chanceCreationScore) as chanceCreationScore from (select team_api_id, (chanceCreationPassing+chanceCreationCrossing+chanceCreationShooting) as chanceCreationScore from Team_attributes) group by team_api_id) cs on cs.team_api_id = t.team_api_id\n",
    "left join (select team_api_id, max(defenseScore) as defenseScore from (select team_api_id, (defencePressure+defenceAggression+defenceTeamWidth) as defenseScore from Team_attributes) group by team_api_id) ds on ds.team_api_id = t.team_api_id)\")) "
   ]
  },
  {
   "cell_type": "markdown",
   "metadata": {},
   "source": [
    "### Loading data to a dataframe"
   ]
  },
  {
   "cell_type": "code",
   "execution_count": 16,
   "metadata": {
    "collapsed": true
   },
   "outputs": [],
   "source": [
    "playersdf <- as.data.frame(players)\n",
    "teamsdf <- as.data.frame(teams)"
   ]
  },
  {
   "cell_type": "markdown",
   "metadata": {},
   "source": [
    "### Loading the data in dataframes to csv files"
   ]
  },
  {
   "cell_type": "code",
   "execution_count": 17,
   "metadata": {
    "collapsed": true
   },
   "outputs": [],
   "source": [
    "write.csv(playersdf,file = \"players.csv\")\n",
    "write.csv(teamsdf,file = \"teams.csv\")"
   ]
  }
 ],
 "metadata": {
  "kernelspec": {
   "display_name": "R",
   "language": "R",
   "name": "ir"
  },
  "language_info": {
   "codemirror_mode": "r",
   "file_extension": ".r",
   "mimetype": "text/x-r-source",
   "name": "R",
   "pygments_lexer": "r",
   "version": "3.3.2"
  }
 },
 "nbformat": 4,
 "nbformat_minor": 2
}
